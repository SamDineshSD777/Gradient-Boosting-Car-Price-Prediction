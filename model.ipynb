{
 "cells": [
  {
   "cell_type": "code",
   "execution_count": null,
   "metadata": {
    "colab": {
     "base_uri": "https://localhost:8080/",
     "height": 34
    },
    "id": "5A8uGAyRGqnv",
    "outputId": "3f8cba5c-48a4-429a-ba4e-f9c9edcd31cb"
   },
   "outputs": [],
   "source": [
    "!pip install -qq catboost"
   ]
  },
  {
   "cell_type": "code",
   "execution_count": 2,
   "metadata": {
    "colab": {
     "base_uri": "https://localhost:8080/",
     "height": 71
    },
    "id": "CNlNYlQKDTk1",
    "outputId": "4a133c7c-82c1-47d5-dc09-790723ef1d8c"
   },
   "outputs": [],
   "source": [
    "import numpy as np\n",
    "import pandas as pd\n",
    "from sklearn.model_selection import *\n",
    "from sklearn.ensemble import *\n",
    "from sklearn.tree import *\n",
    "from sklearn.linear_model import *\n",
    "from sklearn.tree import DecisionTreeRegressor, DecisionTreeClassifier\n",
    "from sklearn.metrics import *\n",
    "from sklearn.preprocessing import LabelEncoder\n",
    "from sklearn.pipeline import Pipeline\n",
    "from sklearn.utils import shuffle\n",
    "from sklearn.dummy import DummyRegressor\n",
    "from catboost import CatBoostRegressor, Pool\n",
    "from lightgbm import LGBMRegressor\n",
    "from xgboost import XGBRegressor\n",
    "import seaborn as sns\n",
    "import matplotlib.pyplot as plt\n",
    "%matplotlib inline\n",
    "\n",
    "import random\n",
    "random_state=42\n",
    "random.seed(random_state)\n",
    "np.random.seed(random_state)\n",
    "\n",
    "import warnings\n",
    "warnings.filterwarnings('ignore')\n",
    "import logging\n",
    "logger = logging.getLogger()\n",
    "logger.setLevel(logging.CRITICAL)\n",
    "import timeit\n",
    "from functools import lru_cache"
   ]
  },
  {
   "cell_type": "markdown",
   "metadata": {
    "id": "sUyW_zLzC7ff"
   },
   "source": [
    "# 1. Data preparation"
   ]
  },
  {
   "cell_type": "markdown",
   "metadata": {
    "id": "oe-r09_1q9uH"
   },
   "source": [
    "</div><div class=\"paragraph\"><strong>Features</strong></div><ul><li><em>DateCrawled</em> — date profile was downloaded from the database</li><li><em>VehicleType</em> — vehicle body type</li><li><em>RegistrationYear</em> — vehicle registration year</li><li><em>Gearbox</em> — gearbox type</li><li><em>Power</em> — power (hp)</li><li><em>Model</em> — vehicle model</li><li>Mileage — mileage (measured in km due to dataset's regional specifics)</li><li><em>RegistrationMonth</em> — vehicle registration month</li><li><em>FuelType</em> — fuel type</li><li><em>Brand</em> — vehicle brand</li><li><em>NotRepaired</em> — vehicle repaired or not</li><li><em>DateCreated</em> — date of profile creation</li><li><em>NumberOfPictures</em> — number of vehicle pictures</li><li><em>PostalCode</em> —  postal code of profile owner (user)</li><li><em>LastSeen</em> — date of the last activity of the user</li></ul><div class=\"paragraph\"><strong>Target</strong></div><div class=\"paragraph\"><em>Price</em> — price (Euro)</div></div>"
   ]
  },
  {
   "cell_type": "markdown",
   "metadata": {
    "id": "ZsiJGYsQrzzY"
   },
   "source": [
    "#### Helper functions:"
   ]
  },
  {
   "cell_type": "code",
   "execution_count": 3,
   "metadata": {
    "id": "Ce-a4G2vroC4"
   },
   "outputs": [],
   "source": [
    "#missing value ratio\n",
    "def missing_values(df):\n",
    "    df_nulls=pd.concat([df.dtypes, df.isna().sum(), df.isna().sum()/len(df)], axis=1)\n",
    "    df_nulls.columns = [\"type\",\"count\",\"missing_ratio\"]\n",
    "    df_nulls=df_nulls[df_nulls[\"count\"]>0]\n",
    "    df_nulls.sort_values(by=\"missing_ratio\", ascending=False)\n",
    "    return df_nulls\n",
    "\n",
    "#outliers by 3 sigma rule\n",
    "def outlier(data):\n",
    "    data_mean, data_std = np.mean(data), np.std(data)\n",
    "    cut_off = data_std * 3\n",
    "    lower, upper = data_mean - cut_off, data_mean + cut_off\n",
    "    outliers = [x for x in data if x < lower or x > upper]\n",
    "    outliers_removed = [x for x in data if x >= lower and x <= upper]\n",
    "    return len(outliers)\n",
    "\n",
    "# full description statistics \n",
    "def describe_full(df, target_name=\"\"):\n",
    "    data_describe = df.describe().T\n",
    "    df_numeric = df._get_numeric_data()\n",
    "    if target_name in df.columns:\n",
    "        corr_with_target=df_numeric.drop(target_name, axis=1).apply(lambda x: x.corr(df_numeric[target_name]))\n",
    "        data_describe['corr_with_target']=corr_with_target\n",
    "    dtype_df = df_numeric.dtypes\n",
    "    data_describe['dtypes'] = dtype_df\n",
    "    data_null = df_numeric.isnull().sum()/len(df) * 100\n",
    "    data_describe['Missing %'] = data_null\n",
    "    Cardinality = df_numeric.apply(pd.Series.nunique)\n",
    "    data_describe['Cardinality'] = Cardinality\n",
    "    df_skew = df_numeric.skew(axis=0, skipna=True)\n",
    "    data_describe['Skew'] = df_skew\n",
    "    data_describe['outliers %']=[outlier(df_numeric[col])/len(df) * 100 for col in df_numeric.columns]\n",
    "    data_describe['kurtosis']=df_numeric.kurtosis()\n",
    "    return data_describe\n",
    "\n",
    "def display_classification_report(y_true, y_pred):\n",
    "    display(pd.DataFrame(classification_report(y_test, y_pred, output_dict=True)).T)\n",
    "\n",
    "\n",
    "def plot_roc(y_test, preds, ax=None, label='model'):\n",
    "    with plt.style.context('seaborn-whitegrid'):\n",
    "        if not ax: fig, ax = plt.subplots(1, 1)\n",
    "        fpr, tpr, thresholds = roc_curve(y_test, preds)\n",
    "        ax.plot([0, 1], [0, 1],'r--')\n",
    "        ax.plot(fpr, tpr, lw=2, label=label)\n",
    "        ax.legend(loc='lower right')\n",
    "        ax.set_title(\n",
    "             'ROC curve\\n'\n",
    "            f\"\"\" AP: {average_precision_score(\n",
    "                y_test, preds, pos_label=1\n",
    "            ):.2} | \"\"\"\n",
    "            f'AUC: {auc(fpr, tpr):.2}')\n",
    "        ax.set_xlabel('False Positive Rate (FPR)')\n",
    "        ax.set_ylabel('True Positive Rate (TPR)')\n",
    "        ax.annotate(f'AUC: {auc(fpr, tpr):.2}', xy=(.43, .025))\n",
    "        ax.legend()\n",
    "        ax.grid()\n",
    "        return ax\n",
    "    \n",
    "\n",
    "def plot_pr(y_test, preds, ax=None, label='model'):\n",
    "    with plt.style.context('seaborn-whitegrid'):\n",
    "        precision, recall, thresholds = precision_recall_curve(y_test, preds)\n",
    "        if not ax: fig, ax = plt.subplots()\n",
    "        ax.plot([0, 1], [1, 0],'r--')    \n",
    "        ax.plot(recall, precision, lw=2, label=label)\n",
    "        ax.legend()\n",
    "        ax.set_title(\n",
    "            'Precision-recall curve\\n'\n",
    "            f\"\"\" AP: {average_precision_score(\n",
    "                y_test, preds, pos_label=1\n",
    "            ):.2} | \"\"\"\n",
    "            f'AUC: {auc(recall, precision):.2}'\n",
    "        )\n",
    "        ax.set_xlabel('Recall')\n",
    "        ax.set_ylabel('Precision')\n",
    "        ax.set_xlim(-0.05, 1.05)\n",
    "        ax.set_ylim(-0.05, 1.05)\n",
    "        ax.legend()\n",
    "        ax.grid()\n",
    "        return ax\n",
    "\n",
    "def show_feature_importances(df, features, target):\n",
    "  X, y = df[features].values,df[target].values\n",
    "  X_train, X_test, y_train, y_test = train_test_split(X, y, test_size=0.1, random_state=42)\n",
    "  rfc = DecisionTreeRegressor().fit(X_train, y_train)\n",
    "  y_pred = rfc.predict(X_test)\n",
    "  df_feature_importances = pd.DataFrame(((zip(features, rfc.feature_importances_)))).rename(columns={0:\"feature\",1:\"coeff\"}).sort_values(by=\"coeff\", ascending = False )\n",
    "  sns.barplot(data=df_feature_importances, x=df_feature_importances[\"coeff\"], y=df_feature_importances[\"feature\"])\n",
    "  return df_feature_importances"
   ]
  },
  {
   "cell_type": "code",
   "execution_count": 4,
   "metadata": {
    "id": "xKghxpfcDZVp"
   },
   "outputs": [],
   "source": [
    "df =  pd.read_csv(\"autos.csv\")"
   ]
  },
  {
   "cell_type": "code",
   "execution_count": 5,
   "metadata": {
    "id": "0ywQxtHNrBSK"
   },
   "outputs": [],
   "source": [
    "target = \"Price\"\n",
    "features = list(set(df.columns)-set(target))"
   ]
  },
  {
   "cell_type": "markdown",
   "metadata": {
    "id": "UnWaRRSBu4GN"
   },
   "source": [
    "#### type conversion"
   ]
  },
  {
   "cell_type": "code",
   "execution_count": 6,
   "metadata": {
    "id": "tUT5wTQlu0_u"
   },
   "outputs": [],
   "source": [
    "df[\"DateCrawled\"] = pd.to_datetime(df[\"DateCrawled\"])\n",
    "df[\"DateCreated\"] = pd.to_datetime(df[\"DateCreated\"])\n",
    "df[\"LastSeen\"] = pd.to_datetime(df[\"LastSeen\"])"
   ]
  },
  {
   "cell_type": "markdown",
   "metadata": {
    "id": "aGwrOrvtvdwa"
   },
   "source": [
    "#### imputing"
   ]
  },
  {
   "cell_type": "code",
   "execution_count": 7,
   "metadata": {
    "id": "yJVgjLjnua1K"
   },
   "outputs": [],
   "source": [
    "df[\"NotRepaired\"] = df[\"NotRepaired\"].fillna('yes')\n",
    "df[\"NotRepaired\"] = (df[\"NotRepaired\"] == 'yes').astype('int')"
   ]
  },
  {
   "cell_type": "code",
   "execution_count": 8,
   "metadata": {
    "id": "qHECY6eQryyQ"
   },
   "outputs": [],
   "source": [
    "df[\"Gearbox\"] = (df[\"Gearbox\"] == \"auto\").astype(\"int\")"
   ]
  },
  {
   "cell_type": "markdown",
   "metadata": {
    "id": "0FsFkJ07wqQi"
   },
   "source": [
    "let's impute others categorical features by model depends on others values and without target (for avoiding leakage in the reaulting model)"
   ]
  },
  {
   "cell_type": "code",
   "execution_count": 9,
   "metadata": {
    "colab": {
     "base_uri": "https://localhost:8080/",
     "height": 306
    },
    "id": "ARlWFKgxug3k",
    "outputId": "050f14fa-15cb-4099-971c-7a2d174c867c"
   },
   "outputs": [
    {
     "data": {
      "text/plain": [
       "DateCrawled              0\n",
       "Price                    0\n",
       "VehicleType          37490\n",
       "RegistrationYear         0\n",
       "Gearbox                  0\n",
       "Power                    0\n",
       "Model                19705\n",
       "Kilometer                0\n",
       "RegistrationMonth        0\n",
       "FuelType             32895\n",
       "Brand                    0\n",
       "NotRepaired              0\n",
       "DateCreated              0\n",
       "NumberOfPictures         0\n",
       "PostalCode               0\n",
       "LastSeen                 0\n",
       "dtype: int64"
      ]
     },
     "execution_count": 9,
     "metadata": {},
     "output_type": "execute_result"
    }
   ],
   "source": [
    "df.isna().sum()"
   ]
  },
  {
   "cell_type": "code",
   "execution_count": 10,
   "metadata": {
    "id": "8COdn7Yiwphr"
   },
   "outputs": [],
   "source": [
    "def impute_value(in_df, features, target):\n",
    "  encoders=dict()\n",
    "  df = in_df.copy()\n",
    "  for col in df[features].select_dtypes('object').columns:\n",
    "    df.loc[df[col].isna(), col] = \"None\"\n",
    "    le = LabelEncoder()\n",
    "    df[col] = le.fit_transform(df[col])\n",
    "    encoders[col] = le  \n",
    "  for col in df[features].select_dtypes('datetime64').columns:\n",
    "    df[f\"{col}_hour\"] = df[col].dt.hour\n",
    "    df[f\"{col}_month\"] = df[col].dt.month\n",
    "    df[f\"{col}_day\"] = df[col].dt.day  \n",
    "    del df[col]\n",
    "  features = list(set(df.columns)-set([target]))\n",
    "  train_df = df[~df[target].isna()]\n",
    "  test_df = df[df[target].isna()]\n",
    "  let = LabelEncoder()\n",
    "  y_train = let.fit_transform(train_df[target])\n",
    "  y_train = train_df[target].values\n",
    "  X_train, X_test = train_df[features].values, test_df[features].values\n",
    "  if len(X_test)==0:\n",
    "    return in_df\n",
    "  model = DecisionTreeClassifier().fit(X_train, y_train)\n",
    "  y_pred = model.predict(X_test)\n",
    "  df.loc[df[target].isna(), target] = y_pred\n",
    "  in_df[target] = df[target]\n",
    "  return in_df"
   ]
  },
  {
   "cell_type": "code",
   "execution_count": 11,
   "metadata": {
    "id": "2DR5IhXo2IHg"
   },
   "outputs": [],
   "source": [
    "for col in [\"FuelType\", \"VehicleType\", \"Model\"]:\n",
    "  df = impute_value(df, features=list(set(df.columns)-set([col])-set([target])), target=col)"
   ]
  },
  {
   "cell_type": "code",
   "execution_count": 12,
   "metadata": {
    "colab": {
     "base_uri": "https://localhost:8080/",
     "height": 306
    },
    "id": "r3lWzsNmDllW",
    "outputId": "02bb7958-a9f0-4d36-ca9a-95e160f9b536"
   },
   "outputs": [
    {
     "data": {
      "text/plain": [
       "DateCrawled          0\n",
       "Price                0\n",
       "VehicleType          0\n",
       "RegistrationYear     0\n",
       "Gearbox              0\n",
       "Power                0\n",
       "Model                0\n",
       "Kilometer            0\n",
       "RegistrationMonth    0\n",
       "FuelType             0\n",
       "Brand                0\n",
       "NotRepaired          0\n",
       "DateCreated          0\n",
       "NumberOfPictures     0\n",
       "PostalCode           0\n",
       "LastSeen             0\n",
       "dtype: int64"
      ]
     },
     "execution_count": 12,
     "metadata": {},
     "output_type": "execute_result"
    }
   ],
   "source": [
    "df.isna().sum()"
   ]
  },
  {
   "cell_type": "code",
   "execution_count": 13,
   "metadata": {
    "colab": {
     "base_uri": "https://localhost:8080/",
     "height": 365
    },
    "id": "ig-1be2SszqZ",
    "outputId": "65b31144-0725-4e16-b04d-df17727a0fc2",
    "scrolled": true
   },
   "outputs": [
    {
     "data": {
      "text/html": [
       "<div>\n",
       "<style scoped>\n",
       "    .dataframe tbody tr th:only-of-type {\n",
       "        vertical-align: middle;\n",
       "    }\n",
       "\n",
       "    .dataframe tbody tr th {\n",
       "        vertical-align: top;\n",
       "    }\n",
       "\n",
       "    .dataframe thead th {\n",
       "        text-align: right;\n",
       "    }\n",
       "</style>\n",
       "<table border=\"1\" class=\"dataframe\">\n",
       "  <thead>\n",
       "    <tr style=\"text-align: right;\">\n",
       "      <th></th>\n",
       "      <th>count</th>\n",
       "      <th>mean</th>\n",
       "      <th>std</th>\n",
       "      <th>min</th>\n",
       "      <th>25%</th>\n",
       "      <th>50%</th>\n",
       "      <th>75%</th>\n",
       "      <th>max</th>\n",
       "      <th>corr_with_target</th>\n",
       "      <th>dtypes</th>\n",
       "      <th>Missing %</th>\n",
       "      <th>Cardinality</th>\n",
       "      <th>Skew</th>\n",
       "      <th>outliers %</th>\n",
       "      <th>kurtosis</th>\n",
       "    </tr>\n",
       "  </thead>\n",
       "  <tbody>\n",
       "    <tr>\n",
       "      <th>Price</th>\n",
       "      <td>354369.0</td>\n",
       "      <td>4416.656776</td>\n",
       "      <td>4514.158514</td>\n",
       "      <td>0.0</td>\n",
       "      <td>1050.0</td>\n",
       "      <td>2700.0</td>\n",
       "      <td>6400.0</td>\n",
       "      <td>20000.0</td>\n",
       "      <td>NaN</td>\n",
       "      <td>int64</td>\n",
       "      <td>0.0</td>\n",
       "      <td>3731</td>\n",
       "      <td>1.430609</td>\n",
       "      <td>1.547539</td>\n",
       "      <td>1.410638</td>\n",
       "    </tr>\n",
       "    <tr>\n",
       "      <th>RegistrationYear</th>\n",
       "      <td>354369.0</td>\n",
       "      <td>2004.234448</td>\n",
       "      <td>90.227958</td>\n",
       "      <td>1000.0</td>\n",
       "      <td>1999.0</td>\n",
       "      <td>2003.0</td>\n",
       "      <td>2008.0</td>\n",
       "      <td>9999.0</td>\n",
       "      <td>0.026916</td>\n",
       "      <td>int64</td>\n",
       "      <td>0.0</td>\n",
       "      <td>151</td>\n",
       "      <td>74.621005</td>\n",
       "      <td>0.045715</td>\n",
       "      <td>6083.101952</td>\n",
       "    </tr>\n",
       "    <tr>\n",
       "      <th>Gearbox</th>\n",
       "      <td>354369.0</td>\n",
       "      <td>0.187051</td>\n",
       "      <td>0.389953</td>\n",
       "      <td>0.0</td>\n",
       "      <td>0.0</td>\n",
       "      <td>0.0</td>\n",
       "      <td>0.0</td>\n",
       "      <td>1.0</td>\n",
       "      <td>0.257725</td>\n",
       "      <td>int32</td>\n",
       "      <td>0.0</td>\n",
       "      <td>2</td>\n",
       "      <td>1.605071</td>\n",
       "      <td>0.000000</td>\n",
       "      <td>0.576256</td>\n",
       "    </tr>\n",
       "    <tr>\n",
       "      <th>Power</th>\n",
       "      <td>354369.0</td>\n",
       "      <td>110.094337</td>\n",
       "      <td>189.850405</td>\n",
       "      <td>0.0</td>\n",
       "      <td>69.0</td>\n",
       "      <td>105.0</td>\n",
       "      <td>143.0</td>\n",
       "      <td>20000.0</td>\n",
       "      <td>0.158872</td>\n",
       "      <td>int64</td>\n",
       "      <td>0.0</td>\n",
       "      <td>712</td>\n",
       "      <td>60.157196</td>\n",
       "      <td>0.101307</td>\n",
       "      <td>4624.103219</td>\n",
       "    </tr>\n",
       "    <tr>\n",
       "      <th>Kilometer</th>\n",
       "      <td>354369.0</td>\n",
       "      <td>128211.172535</td>\n",
       "      <td>37905.341530</td>\n",
       "      <td>5000.0</td>\n",
       "      <td>125000.0</td>\n",
       "      <td>150000.0</td>\n",
       "      <td>150000.0</td>\n",
       "      <td>150000.0</td>\n",
       "      <td>-0.333199</td>\n",
       "      <td>int64</td>\n",
       "      <td>0.0</td>\n",
       "      <td>13</td>\n",
       "      <td>-1.724119</td>\n",
       "      <td>2.150019</td>\n",
       "      <td>1.925124</td>\n",
       "    </tr>\n",
       "    <tr>\n",
       "      <th>RegistrationMonth</th>\n",
       "      <td>354369.0</td>\n",
       "      <td>5.714645</td>\n",
       "      <td>3.726421</td>\n",
       "      <td>0.0</td>\n",
       "      <td>3.0</td>\n",
       "      <td>6.0</td>\n",
       "      <td>9.0</td>\n",
       "      <td>12.0</td>\n",
       "      <td>0.110581</td>\n",
       "      <td>int64</td>\n",
       "      <td>0.0</td>\n",
       "      <td>13</td>\n",
       "      <td>0.081207</td>\n",
       "      <td>0.000000</td>\n",
       "      <td>-1.148239</td>\n",
       "    </tr>\n",
       "    <tr>\n",
       "      <th>NotRepaired</th>\n",
       "      <td>354369.0</td>\n",
       "      <td>0.898259</td>\n",
       "      <td>0.302308</td>\n",
       "      <td>0.0</td>\n",
       "      <td>1.0</td>\n",
       "      <td>1.0</td>\n",
       "      <td>1.0</td>\n",
       "      <td>1.0</td>\n",
       "      <td>0.186431</td>\n",
       "      <td>int32</td>\n",
       "      <td>0.0</td>\n",
       "      <td>2</td>\n",
       "      <td>-2.634799</td>\n",
       "      <td>0.000000</td>\n",
       "      <td>4.942192</td>\n",
       "    </tr>\n",
       "    <tr>\n",
       "      <th>NumberOfPictures</th>\n",
       "      <td>354369.0</td>\n",
       "      <td>0.000000</td>\n",
       "      <td>0.000000</td>\n",
       "      <td>0.0</td>\n",
       "      <td>0.0</td>\n",
       "      <td>0.0</td>\n",
       "      <td>0.0</td>\n",
       "      <td>0.0</td>\n",
       "      <td>NaN</td>\n",
       "      <td>int64</td>\n",
       "      <td>0.0</td>\n",
       "      <td>1</td>\n",
       "      <td>0.000000</td>\n",
       "      <td>0.000000</td>\n",
       "      <td>0.000000</td>\n",
       "    </tr>\n",
       "    <tr>\n",
       "      <th>PostalCode</th>\n",
       "      <td>354369.0</td>\n",
       "      <td>50508.689087</td>\n",
       "      <td>25783.096248</td>\n",
       "      <td>1067.0</td>\n",
       "      <td>30165.0</td>\n",
       "      <td>49413.0</td>\n",
       "      <td>71083.0</td>\n",
       "      <td>99998.0</td>\n",
       "      <td>0.076055</td>\n",
       "      <td>int64</td>\n",
       "      <td>0.0</td>\n",
       "      <td>8143</td>\n",
       "      <td>0.077054</td>\n",
       "      <td>0.000000</td>\n",
       "      <td>-0.965296</td>\n",
       "    </tr>\n",
       "  </tbody>\n",
       "</table>\n",
       "</div>"
      ],
      "text/plain": [
       "                      count           mean           std     min       25%  \\\n",
       "Price              354369.0    4416.656776   4514.158514     0.0    1050.0   \n",
       "RegistrationYear   354369.0    2004.234448     90.227958  1000.0    1999.0   \n",
       "Gearbox            354369.0       0.187051      0.389953     0.0       0.0   \n",
       "Power              354369.0     110.094337    189.850405     0.0      69.0   \n",
       "Kilometer          354369.0  128211.172535  37905.341530  5000.0  125000.0   \n",
       "RegistrationMonth  354369.0       5.714645      3.726421     0.0       3.0   \n",
       "NotRepaired        354369.0       0.898259      0.302308     0.0       1.0   \n",
       "NumberOfPictures   354369.0       0.000000      0.000000     0.0       0.0   \n",
       "PostalCode         354369.0   50508.689087  25783.096248  1067.0   30165.0   \n",
       "\n",
       "                        50%       75%       max  corr_with_target dtypes  \\\n",
       "Price                2700.0    6400.0   20000.0               NaN  int64   \n",
       "RegistrationYear     2003.0    2008.0    9999.0          0.026916  int64   \n",
       "Gearbox                 0.0       0.0       1.0          0.257725  int32   \n",
       "Power                 105.0     143.0   20000.0          0.158872  int64   \n",
       "Kilometer          150000.0  150000.0  150000.0         -0.333199  int64   \n",
       "RegistrationMonth       6.0       9.0      12.0          0.110581  int64   \n",
       "NotRepaired             1.0       1.0       1.0          0.186431  int32   \n",
       "NumberOfPictures        0.0       0.0       0.0               NaN  int64   \n",
       "PostalCode          49413.0   71083.0   99998.0          0.076055  int64   \n",
       "\n",
       "                   Missing %  Cardinality       Skew  outliers %     kurtosis  \n",
       "Price                    0.0         3731   1.430609    1.547539     1.410638  \n",
       "RegistrationYear         0.0          151  74.621005    0.045715  6083.101952  \n",
       "Gearbox                  0.0            2   1.605071    0.000000     0.576256  \n",
       "Power                    0.0          712  60.157196    0.101307  4624.103219  \n",
       "Kilometer                0.0           13  -1.724119    2.150019     1.925124  \n",
       "RegistrationMonth        0.0           13   0.081207    0.000000    -1.148239  \n",
       "NotRepaired              0.0            2  -2.634799    0.000000     4.942192  \n",
       "NumberOfPictures         0.0            1   0.000000    0.000000     0.000000  \n",
       "PostalCode               0.0         8143   0.077054    0.000000    -0.965296  "
      ]
     },
     "execution_count": 13,
     "metadata": {},
     "output_type": "execute_result"
    }
   ],
   "source": [
    "describe_full(df, target_name=target)"
   ]
  },
  {
   "cell_type": "code",
   "execution_count": 14,
   "metadata": {},
   "outputs": [
    {
     "name": "stdout",
     "output_type": "stream",
     "text": [
      "<class 'pandas.core.frame.DataFrame'>\n",
      "RangeIndex: 354369 entries, 0 to 354368\n",
      "Data columns (total 16 columns):\n",
      " #   Column             Non-Null Count   Dtype         \n",
      "---  ------             --------------   -----         \n",
      " 0   DateCrawled        354369 non-null  datetime64[ns]\n",
      " 1   Price              354369 non-null  int64         \n",
      " 2   VehicleType        354369 non-null  object        \n",
      " 3   RegistrationYear   354369 non-null  int64         \n",
      " 4   Gearbox            354369 non-null  int32         \n",
      " 5   Power              354369 non-null  int64         \n",
      " 6   Model              354369 non-null  object        \n",
      " 7   Kilometer          354369 non-null  int64         \n",
      " 8   RegistrationMonth  354369 non-null  int64         \n",
      " 9   FuelType           354369 non-null  object        \n",
      " 10  Brand              354369 non-null  object        \n",
      " 11  NotRepaired        354369 non-null  int32         \n",
      " 12  DateCreated        354369 non-null  datetime64[ns]\n",
      " 13  NumberOfPictures   354369 non-null  int64         \n",
      " 14  PostalCode         354369 non-null  int64         \n",
      " 15  LastSeen           354369 non-null  datetime64[ns]\n",
      "dtypes: datetime64[ns](3), int32(2), int64(7), object(4)\n",
      "memory usage: 40.6+ MB\n"
     ]
    }
   ],
   "source": [
    "df.info()"
   ]
  },
  {
   "cell_type": "markdown",
   "metadata": {
    "id": "mAjcaladC7fi"
   },
   "source": [
    "# 2. Model training"
   ]
  },
  {
   "cell_type": "markdown",
   "metadata": {
    "id": "MElLLv0EPjaF"
   },
   "source": [
    "let's use CV technics and 10% for a final test set. \n",
    "we gonna see 3 models - CatBoost, XGBoost, and LGBMBoost"
   ]
  },
  {
   "cell_type": "code",
   "execution_count": 15,
   "metadata": {
    "id": "LQ_e68aCJU8x"
   },
   "outputs": [],
   "source": [
    "def get_data(df, transform_data=True, apply_encoding=False):\n",
    "  in_df = df.copy()\n",
    "  target = \"Price\"\n",
    "  features = list(set(in_df.columns)-set([target]))\n",
    "  if transform_data:\n",
    "    for col in in_df[features].select_dtypes('datetime64').columns:\n",
    "      in_df[f\"{col}_hour\"] = in_df[col].dt.hour\n",
    "      in_df[f\"{col}_month\"] = in_df[col].dt.month\n",
    "      in_df[f\"{col}_day\"] = in_df[col].dt.day  \n",
    "      del in_df[col]\n",
    "  features = list(set(in_df.columns)-set([target]))\n",
    "  encoders = dict()\n",
    "  if apply_encoding:\n",
    "    for col in in_df[features].select_dtypes('object').columns:\n",
    "      lbl = LabelEncoder().fit(in_df[col].values)\n",
    "      in_df[col] = lbl.transform(in_df[col].values)\n",
    "      encoders[col] = lbl\n",
    "  features = list(set(in_df.columns)-set([target]))\n",
    "  cat_features = list(in_df[features].select_dtypes('object').columns)\n",
    "  return in_df[features].values, in_df[target].values, features, target, encoders, cat_features"
   ]
  },
  {
   "cell_type": "code",
   "execution_count": 16,
   "metadata": {
    "id": "pnrZFqKixhcx"
   },
   "outputs": [],
   "source": [
    "rmse_func = lambda y_true, y_pred: mean_squared_error(y_true, y_pred, squared=False)\n",
    "rmsle  = make_scorer(rmse_func, greater_is_better=False)"
   ]
  },
  {
   "cell_type": "code",
   "execution_count": 17,
   "metadata": {
    "id": "Ztl-ALnxV74d"
   },
   "outputs": [],
   "source": [
    "def eval_model(model, X_train, X_test, y_train, y_test):\n",
    "  model.fit(X_train, y_train, eval_metric='rmse', verbose = False, eval_set = [(X_test, y_test)])\n",
    "  y_pred = model.predict(X_test)\n",
    "  print(\"RMSE\", rmse_func(y_test, y_pred))"
   ]
  },
  {
   "cell_type": "code",
   "execution_count": 18,
   "metadata": {
    "id": "v-UeBX-IAp0p"
   },
   "outputs": [],
   "source": [
    "log_metrics = {\"models\": [\"catboost\", \"xgboost\", \"LGBM\"], \"rmse_init\": [0.0]*3, \"rmse_cv\": [0.0]*3}\n",
    "m_idx = {\"catboost\":0, \"xgboost\":1, \"LGBM\":2}"
   ]
  },
  {
   "cell_type": "markdown",
   "metadata": {
    "id": "cA-ZY-WEUBPv"
   },
   "source": [
    "CatBoost"
   ]
  },
  {
   "cell_type": "code",
   "execution_count": null,
   "metadata": {
    "id": "PbBr2QupUiWN"
   },
   "outputs": [],
   "source": [
    "X, y, features, target, _, cat_features = get_data(df)\n",
    "X_train, X_test, y_train, y_test = train_test_split(X, y, test_size=0.1, random_state=random_state)\n",
    "train_ds = Pool(data=X_train, label=y_train, cat_features=cat_features, feature_names=features)\n",
    "test_ds = Pool(data=X_test, label=y_test, cat_features=cat_features, feature_names=features)\n",
    "full_ds = Pool(data=X, label=y, cat_features=cat_features, feature_names=features)"
   ]
  },
  {
   "cell_type": "code",
   "execution_count": null,
   "metadata": {
    "colab": {
     "base_uri": "https://localhost:8080/",
     "height": 51
    },
    "id": "cCbOnxs1uyRu",
    "outputId": "02d40d20-4b17-4307-b0e1-df0464151dc8"
   },
   "outputs": [],
   "source": [
    "model = CatBoostRegressor(iterations=20, task_type=\"GPU\", devices='0:1', random_seed=random_state, loss_function='RMSE', has_time=True)\n",
    "model.fit(train_ds, verbose = 0)\n",
    "y_pred = model.predict(test_ds)\n",
    "print(\"RMSE\", rmse_func(y_test, y_pred))\n",
    "print(\"time {}\".format(timeit.timeit()))"
   ]
  },
  {
   "cell_type": "code",
   "execution_count": null,
   "metadata": {
    "id": "OTMSUtPqBXxX"
   },
   "outputs": [],
   "source": [
    "log_metrics[\"rmse_init\"][m_idx[\"catboost\"]] = rmse_func(y_test, y_pred)"
   ]
  },
  {
   "cell_type": "markdown",
   "metadata": {
    "id": "Vjhtw-9GxntD"
   },
   "source": [
    "CatBoost, GridSearch"
   ]
  },
  {
   "cell_type": "code",
   "execution_count": null,
   "metadata": {
    "colab": {
     "base_uri": "https://localhost:8080/",
     "height": 578
    },
    "id": "m_gWuccDUhGt",
    "outputId": "8d92a746-76fd-407e-a042-56cfe408589d"
   },
   "outputs": [],
   "source": [
    "param_grid = {\n",
    "        'learning_rate': [0.03, 0.1],\n",
    "        'depth': [6, 10],\n",
    "        'l2_leaf_reg': [3, 5, 7, 9],\n",
    "        'has_time': [True]        \n",
    "}\n",
    "\n",
    "model = CatBoostRegressor(iterations=20, loss_function='RMSE', task_type=\"GPU\", devices='0:1', random_seed=random_state)\n",
    "grid_search_result = model.grid_search(param_grid, \n",
    "                                       full_ds,\n",
    "                                       verbose=0,\n",
    "                                       partition_random_seed=random_state,\n",
    "                                       search_by_train_test_split=True,\n",
    "                                       train_size=0.9,\n",
    "                                       plot=False)\n",
    "print(\"time {}\".format(timeit.timeit()))"
   ]
  },
  {
   "cell_type": "code",
   "execution_count": null,
   "metadata": {
    "colab": {
     "base_uri": "https://localhost:8080/",
     "height": 51
    },
    "id": "Xotiour18zpI",
    "outputId": "0bc1a575-ccf4-4996-e0aa-af3200dadf6c"
   },
   "outputs": [],
   "source": [
    "cv_data = pd.DataFrame(grid_search_result[\"cv_results\"])\n",
    "best_value = cv_data['test-RMSE-mean'].min()\n",
    "best_iter = cv_data['test-RMSE-mean'].values.argmin()\n",
    "\n",
    "print('Best validation RMSE score : {:.4f}±{:.4f} on step {}'.format(\n",
    "    best_value,\n",
    "    cv_data['test-RMSE-std'][best_iter],\n",
    "    best_iter)\n",
    ")\n",
    "print(\"time {}\".format(timeit.timeit()))"
   ]
  },
  {
   "cell_type": "code",
   "execution_count": null,
   "metadata": {
    "colab": {
     "base_uri": "https://localhost:8080/",
     "height": 425
    },
    "id": "JKHfC26syc24",
    "outputId": "53d9e516-bdc0-45c2-d896-0a657e9886f0"
   },
   "outputs": [],
   "source": [
    "model = CatBoostRegressor(iterations=20, loss_function='RMSE', task_type=\"GPU\", devices='0:1', random_seed=random_state, **grid_search_result[\"params\"])\n",
    "model.fit(train_ds, verbose = 1, eval_set = [(X_test, y_test)], use_best_model=True)\n",
    "y_pred = model.predict(test_ds)\n",
    "print(\"RMSE\", rmse_func(y_test, y_pred))\n",
    "print(\"time {}\".format(timeit.timeit()))"
   ]
  },
  {
   "cell_type": "code",
   "execution_count": null,
   "metadata": {
    "id": "3XwNSbHUB4fu"
   },
   "outputs": [],
   "source": [
    "log_metrics[\"rmse_cv\"][m_idx[\"catboost\"]] = rmse_func(y_test, y_pred)"
   ]
  },
  {
   "cell_type": "markdown",
   "metadata": {
    "id": "fpq-0RKNZ7kf"
   },
   "source": [
    "XGBoost"
   ]
  },
  {
   "cell_type": "code",
   "execution_count": null,
   "metadata": {
    "id": "YGRnKnE4N6ve"
   },
   "outputs": [],
   "source": [
    "X, y, features, target, encoders, _ = get_data(df, apply_encoding=True)\n",
    "X_train, X_test, y_train, y_test = train_test_split(X, y, test_size=0.1, random_state=random_state)"
   ]
  },
  {
   "cell_type": "code",
   "execution_count": null,
   "metadata": {
    "colab": {
     "base_uri": "https://localhost:8080/",
     "height": 51
    },
    "id": "0n1lIMlxW7yp",
    "outputId": "a528ab9a-12e0-47d8-cacd-4635fb968c1f"
   },
   "outputs": [],
   "source": [
    "model = XGBRegressor(tree_method='gpu_hist', gpu_id=0, random_state=random_state, objective='reg:squarederror')\n",
    "eval_model(model, X_train, X_test, y_train, y_test)\n",
    "print(\"time {}\".format(timeit.timeit()))"
   ]
  },
  {
   "cell_type": "code",
   "execution_count": null,
   "metadata": {
    "id": "PWIb906PKv1J"
   },
   "outputs": [],
   "source": [
    "y_pred = model.predict(X_test)\n",
    "log_metrics[\"rmse_init\"][m_idx[\"xgboost\"]] = rmse_func(y_test, y_pred)"
   ]
  },
  {
   "cell_type": "markdown",
   "metadata": {
    "id": "LTNji0d39iOX"
   },
   "source": [
    "XGBoost, CV"
   ]
  },
  {
   "cell_type": "code",
   "execution_count": null,
   "metadata": {
    "colab": {
     "base_uri": "https://localhost:8080/",
     "height": 51
    },
    "id": "jOQHudobM0e-",
    "outputId": "3a207387-4472-4a0d-e1c8-6fe371634f0d"
   },
   "outputs": [],
   "source": [
    "param_grid = {\n",
    "        'learning_rate': [0.03, 0.1],\n",
    "        'max_depth': [4, 6, 10],\n",
    "        'objective':['reg:squarederror']\n",
    "        \n",
    "}\n",
    "model = XGBRegressor(tree_method='gpu_hist', gpu_id=0, random_state=random_state)\n",
    "\n",
    "grid = GridSearchCV(model,\n",
    "                        param_grid,\n",
    "                        cv = 5,\n",
    "                        n_jobs = 5,\n",
    "                        verbose=False,\n",
    "                        scoring=rmsle)\n",
    "\n",
    "grid.fit(X, y)\n",
    "\n",
    "print(grid.best_params_)\n",
    "print(\"time {}\".format(timeit.timeit()))"
   ]
  },
  {
   "cell_type": "code",
   "execution_count": null,
   "metadata": {
    "colab": {
     "base_uri": "https://localhost:8080/",
     "height": 51
    },
    "id": "wEPvQ9SF-Nxk",
    "outputId": "4f8dc1db-4596-408e-a534-b123592aefd7"
   },
   "outputs": [],
   "source": [
    "model = XGBRegressor(tree_method='gpu_hist', gpu_id=0, random_state=random_state, **grid.best_params_)\n",
    "eval_model(model, X_train, X_test, y_train, y_test)\n",
    "print(\"time {}\".format(timeit.timeit()))"
   ]
  },
  {
   "cell_type": "code",
   "execution_count": null,
   "metadata": {
    "colab": {
     "base_uri": "https://localhost:8080/",
     "height": 34
    },
    "id": "Dpr3cP8fCcsQ",
    "outputId": "4649cf43-7022-4e93-9f88-e15df609fbea"
   },
   "outputs": [],
   "source": [
    "y_pred = model.predict(X_test)\n",
    "log_metrics[\"rmse_cv\"][m_idx[\"xgboost\"]] = rmse_func(y_test, y_pred)\n",
    "print(\"time {}\".format(timeit.timeit()))"
   ]
  },
  {
   "cell_type": "markdown",
   "metadata": {
    "id": "snGidLggaeUW"
   },
   "source": [
    "LGBMRegressor"
   ]
  },
  {
   "cell_type": "code",
   "execution_count": 19,
   "metadata": {
    "id": "6J_uZObP-GBq"
   },
   "outputs": [],
   "source": [
    "X, y, features, target, encoders, cat_features = get_data(df, apply_encoding=True)\n",
    "X_train, X_test, y_train, y_test = train_test_split(X, y, test_size=0.1, random_state=random_state)"
   ]
  },
  {
   "cell_type": "code",
   "execution_count": 20,
   "metadata": {
    "colab": {
     "base_uri": "https://localhost:8080/",
     "height": 51
    },
    "id": "jIFlXA6mOswt",
    "outputId": "0afb5cea-5a69-4d8b-c9ad-a23218e36377"
   },
   "outputs": [
    {
     "name": "stdout",
     "output_type": "stream",
     "text": [
      "[LightGBM] [Warning] Auto-choosing row-wise multi-threading, the overhead of testing was 0.025467 seconds.\n",
      "You can set `force_row_wise=true` to remove the overhead.\n",
      "And if memory is not enough, you can set `force_col_wise=true`.\n",
      "[LightGBM] [Info] Total Bins 1102\n",
      "[LightGBM] [Info] Number of data points in the train set: 318932, number of used features: 19\n",
      "[LightGBM] [Info] Start training from score 4414.279718\n",
      "RMSE 1857.9140379681626\n",
      "time 0.035925899999710964\n"
     ]
    }
   ],
   "source": [
    "model = LGBMRegressor(objective=\"RMSE\", random_state=random_state, verbose=1)\n",
    "eval_model(model, X_train, X_test, y_train, y_test)\n",
    "print(\"time {}\".format(timeit.timeit()))"
   ]
  },
  {
   "cell_type": "code",
   "execution_count": 21,
   "metadata": {
    "colab": {
     "base_uri": "https://localhost:8080/",
     "height": 34
    },
    "id": "zRuNUYDgCzcD",
    "outputId": "f9ce04f3-7d6a-4155-ce04-0d193a037010"
   },
   "outputs": [
    {
     "name": "stdout",
     "output_type": "stream",
     "text": [
      "time 0.03680789999998524\n"
     ]
    }
   ],
   "source": [
    "y_pred = model.predict(X_test)\n",
    "log_metrics[\"rmse_init\"][m_idx[\"LGBM\"]] = rmse_func(y_test, y_pred)\n",
    "print(\"time {}\".format(timeit.timeit()))"
   ]
  },
  {
   "cell_type": "code",
   "execution_count": 22,
   "metadata": {
    "colab": {
     "base_uri": "https://localhost:8080/",
     "height": 51
    },
    "id": "uWKs6fnSajSx",
    "outputId": "38e4a18a-6de8-4d3e-d865-84301d9c5336"
   },
   "outputs": [
    {
     "name": "stdout",
     "output_type": "stream",
     "text": [
      "[LightGBM] [Warning] Accuracy may be bad since you didn't explicitly set num_leaves OR 2^max_depth > num_leaves. (num_leaves=31).\n",
      "[LightGBM] [Warning] Accuracy may be bad since you didn't explicitly set num_leaves OR 2^max_depth > num_leaves. (num_leaves=31).\n",
      "[LightGBM] [Warning] Auto-choosing row-wise multi-threading, the overhead of testing was 0.034801 seconds.\n",
      "You can set `force_row_wise=true` to remove the overhead.\n",
      "And if memory is not enough, you can set `force_col_wise=true`.\n",
      "{'learning_rate': 0.1, 'max_depth': 10}\n",
      "time 0.03153349999956845\n"
     ]
    }
   ],
   "source": [
    "param_grid = {\n",
    "        'learning_rate': [0.03, 0.1],\n",
    "        'max_depth': [4, 6, 10]\n",
    "}\n",
    "\n",
    "model = LGBMRegressor(objective=\"RMSE\", random_state=random_state, verbose=0)\n",
    "\n",
    "grid = GridSearchCV(model,\n",
    "                        param_grid,\n",
    "                        cv = 5,\n",
    "                        n_jobs = 5,\n",
    "                        verbose=False)\n",
    "\n",
    "grid.fit(X, y)\n",
    "\n",
    "print(grid.best_params_)\n",
    "print(\"time {}\".format(timeit.timeit()))"
   ]
  },
  {
   "cell_type": "code",
   "execution_count": 23,
   "metadata": {
    "colab": {
     "base_uri": "https://localhost:8080/",
     "height": 34
    },
    "id": "xurcgicgARGI",
    "outputId": "5b4d939e-5407-4112-8e0c-6613d9e607f2",
    "scrolled": true
   },
   "outputs": [
    {
     "name": "stdout",
     "output_type": "stream",
     "text": [
      "[LightGBM] [Warning] Accuracy may be bad since you didn't explicitly set num_leaves OR 2^max_depth > num_leaves. (num_leaves=31).\n",
      "[LightGBM] [Warning] Accuracy may be bad since you didn't explicitly set num_leaves OR 2^max_depth > num_leaves. (num_leaves=31).\n",
      "[LightGBM] [Warning] Auto-choosing col-wise multi-threading, the overhead of testing was 0.052988 seconds.\n",
      "You can set `force_col_wise=true` to remove the overhead.\n",
      "0.029403300000012678\n"
     ]
    }
   ],
   "source": [
    "model = LGBMRegressor(objective=\"RMSE\", random_state=random_state, verbose=0, **grid.best_params_)\n",
    "model.fit(X_train, y_train)\n",
    "y_pred = model.predict(X_test)\n",
    "log_metrics[\"rmse_cv\"][m_idx[\"LGBM\"]] = rmse_func(y_test, y_pred)\n",
    "print(\"{}\".format(timeit.timeit()))"
   ]
  },
  {
   "cell_type": "code",
   "execution_count": 23,
   "metadata": {},
   "outputs": [
    {
     "data": {
      "text/plain": [
       "['features.pkl']"
      ]
     },
     "execution_count": 23,
     "metadata": {},
     "output_type": "execute_result"
    }
   ],
   "source": [
    "import joblib\n",
    "joblib.dump(model, 'model.pkl')\n",
    "joblib.dump(encoders,'encoders.pkl')\n",
    "joblib.dump(features,'features.pkl')"
   ]
  },
  {
   "cell_type": "code",
   "execution_count": 24,
   "metadata": {},
   "outputs": [
    {
     "name": "stdout",
     "output_type": "stream",
     "text": [
      "[14648.15616072 15019.97772019  2380.51897701 ...  2058.70506602\n",
      "  2417.22514819  1902.65088539]\n",
      "[19999 14250  2850 ...  1990   950  1500]\n"
     ]
    }
   ],
   "source": [
    "ans_predict = model.predict(X_test)\n",
    "print(ans_predict)\n",
    "print(y_test)"
   ]
  },
  {
   "cell_type": "code",
   "execution_count": 25,
   "metadata": {},
   "outputs": [
    {
     "name": "stdout",
     "output_type": "stream",
     "text": [
      "[    3    25     1     6    28 45770     3     0  2011    25     3     2\n",
      "    29     0   140     7     1 70000    12     0    11]\n",
      "[15019.97772019]\n",
      "14250\n"
     ]
    }
   ],
   "source": [
    "i=1\n",
    "print(X_test[i])\n",
    "ans_predict_ = model.predict(X_test[i].reshape(1, -1))\n",
    "print(ans_predict_)\n",
    "print(y_test[i])"
   ]
  },
  {
   "cell_type": "code",
   "execution_count": 26,
   "metadata": {},
   "outputs": [
    {
     "data": {
      "text/plain": [
       "{'Model': LabelEncoder(),\n",
       " 'FuelType': LabelEncoder(),\n",
       " 'VehicleType': LabelEncoder(),\n",
       " 'Brand': LabelEncoder()}"
      ]
     },
     "execution_count": 26,
     "metadata": {},
     "output_type": "execute_result"
    }
   ],
   "source": [
    "encoders"
   ]
  },
  {
   "cell_type": "code",
   "execution_count": 27,
   "metadata": {},
   "outputs": [
    {
     "data": {
      "text/plain": [
       "['DateCreated_month',\n",
       " 'DateCrawled_day',\n",
       " 'NotRepaired',\n",
       " 'RegistrationMonth',\n",
       " 'Model',\n",
       " 'PostalCode',\n",
       " 'DateCrawled_month',\n",
       " 'DateCreated_hour',\n",
       " 'RegistrationYear',\n",
       " 'DateCreated_day',\n",
       " 'LastSeen_month',\n",
       " 'FuelType',\n",
       " 'LastSeen_day',\n",
       " 'NumberOfPictures',\n",
       " 'Power',\n",
       " 'VehicleType',\n",
       " 'Brand',\n",
       " 'Kilometer',\n",
       " 'DateCrawled_hour',\n",
       " 'Gearbox',\n",
       " 'LastSeen_hour']"
      ]
     },
     "execution_count": 27,
     "metadata": {},
     "output_type": "execute_result"
    }
   ],
   "source": [
    "features"
   ]
  },
  {
   "cell_type": "code",
   "execution_count": 30,
   "metadata": {},
   "outputs": [
    {
     "name": "stdout",
     "output_type": "stream",
     "text": [
      "[1]\n"
     ]
    }
   ],
   "source": [
    "# Assuming 'encoders' is the dictionary you posted\n",
    "brand_encoder = encoders['Brand'] # get the LabelEncoder for 'Brand' attribute\n",
    "brand_value = 'audi' # categorical value for 'Brand'\n",
    "brand_encoded_value = brand_encoder.transform([brand_value]) # convert to encoded numerical value\n",
    "print(brand_encoded_value) #"
   ]
  },
  {
   "cell_type": "markdown",
   "metadata": {
    "id": "Ytf6ohavC7fl"
   },
   "source": [
    "# 3. Model analysis"
   ]
  },
  {
   "cell_type": "code",
   "execution_count": null,
   "metadata": {
    "colab": {
     "base_uri": "https://localhost:8080/",
     "height": 142
    },
    "id": "rmzG957wC7fm",
    "outputId": "fb88ffb9-4131-47fa-eab4-39f0c96f2628"
   },
   "outputs": [],
   "source": [
    "pd.DataFrame(log_metrics)"
   ]
  },
  {
   "cell_type": "markdown",
   "metadata": {
    "id": "K99x1b1nEgp1"
   },
   "source": [
    "Best result is on the XGBoost, and LGBM has weighted result in both cases"
   ]
  }
 ],
 "metadata": {
  "accelerator": "GPU",
  "colab": {
   "name": "sprint12.ipynb",
   "provenance": [],
   "toc_visible": true
  },
  "kernelspec": {
   "display_name": "Python 3 (ipykernel)",
   "language": "python",
   "name": "python3"
  },
  "language_info": {
   "codemirror_mode": {
    "name": "ipython",
    "version": 3
   },
   "file_extension": ".py",
   "mimetype": "text/x-python",
   "name": "python",
   "nbconvert_exporter": "python",
   "pygments_lexer": "ipython3",
   "version": "3.9.13"
  }
 },
 "nbformat": 4,
 "nbformat_minor": 1
}
